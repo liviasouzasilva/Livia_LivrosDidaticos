{
 "cells": [
  {
   "cell_type": "markdown",
   "id": "fcbe0b0b",
   "metadata": {},
   "source": [
    "# 📘 Projeto de Programação Orientada a Objetos – 2º Bimestre\n",
    "\n",
    "**Nome do Aluno: Lívia De Souza Silva**                      \n",
    "\n",
    "**Turma: 2B TI**\n",
    "\n",
    "**Tema Escolhido: sistema que cataloga livros didáticos**"
   ]
  },
  {
   "cell_type": "markdown",
   "id": "47e697ce",
   "metadata": {},
   "source": [
    "Lembre-se esse projeto deve ser personalizado, todas as classe e metodos devem ter uma referencia ao seu nome, exemplo:\n",
    "\n",
    "class Carro_Fabio:\n",
    "\n",
    "    def __init__(self, tipo, cor, rodas):\n",
    "        self.tipo = tipo\n",
    "        self.cor = cor\n",
    "        self.rodas = rodas\n",
    "        \n",
    "    def alterar_cor_Fabio(self, nova_cor):\n",
    "        self.cor = nova_cor\n",
    "        return self.cor\n",
    "    "
   ]
  },
  {
   "cell_type": "markdown",
   "id": "bf0b9458",
   "metadata": {},
   "source": [
    "## PARTE 1 – Classe Principal e Objetos\n",
    "\n",
    "**Tarefas:**\n",
    "- Definir e criar a classe principal com pelo menos 3 atributos.\n",
    "- Implementar o método construtor (`__init__`).\n",
    "- Criar pelo menos 2 objetos da classe principal.\n",
    "- Implementar um método de exibição de dados.\n",
    "\n",
    "**Código:**"
   ]
  },
  {
   "cell_type": "code",
   "execution_count": 3,
   "id": "5721fa89",
   "metadata": {},
   "outputs": [],
   "source": [
    "# Desenvolva aqui o código da Parte 1\n",
    "class Lívia_livros:\n",
    "    def __init__(self, titulo, autor, disciplina):\n",
    "        self.titulo = titulo\n",
    "        self.autor = autor\n",
    "        self.disciplina = disciplina\n",
    "\n",
    "    def exibir_dados(self):\n",
    "        print(f\"Título: {self.titulo}\")\n",
    "        print(f\"Autor: {self.autor}\")\n",
    "        print(f\"Disciplina: {self.disciplina}\")"
   ]
  },
  {
   "cell_type": "markdown",
   "id": "f2cf3375",
   "metadata": {},
   "source": [
    "## PARTE 2 – Métodos e Herança\n",
    "\n",
    "**Tarefas:**\n",
    "- Criar pelo menos 2 métodos de ação para a classe principal.\n",
    "- Criar uma subclasse herdando da classe principal.\n",
    "- Adicionar pelo menos 1 novo atributo e 1 novo método exclusivo na subclasse.\n",
    "- Utilizar `super()` no construtor da subclasse.\n",
    "\n",
    "**Código:**"
   ]
  },
  {
   "cell_type": "code",
   "execution_count": 22,
   "id": "5f456eb1",
   "metadata": {},
   "outputs": [],
   "source": [
    "\n",
    "def emprestar(self):\n",
    "        if not self.emprestado:\n",
    "            self.emprestado = True\n",
    "            print(f'O livro \"{self.titulo}\" foi emprestado.')\n",
    "        else:\n",
    "            print(f'O livro \"{self.titulo}\" já está emprestado.')\n",
    "\n",
    "\n",
    "def devolver(self):\n",
    "        if self.emprestado:\n",
    "            self.emprestado = False\n",
    "            print(f'O livro \"{self.titulo}\" foi devolvido.')\n",
    "        else:\n",
    "            print(f'O livro \"{self.titulo}\" não estava emprestado.')\n",
    "\n",
    "\n",
    "        class LivroEmprestado(LivroDidatico):\n",
    "            def __init__(self, titulo, autor, disciplina, data_emprestimo):\n",
    "       \n",
    "                super().__init__(titulo, autor, disciplina)\n",
    "        self.data_emprestimo = data_emprestimo  \n",
    "\n",
    "\n",
    "def renovar_emprestimo(self):\n",
    "        if self.emprestado:\n",
    "            print(f'O empréstimo do livro \"{self.titulo}\" foi renovado.')\n",
    "        else:\n",
    "            print(f'O livro \"{self.titulo}\" não está emprestado, portanto não pode ser renovado.')\n",
    "\n",
    "\n",
    "def exibir_dados(self):\n",
    "        super().exibir_dados() \n",
    "        print(f'Data do Empréstimo: {self.data_emprestimo.strftime(\"%d/%m/%Y\")}')\n",
    "        print('-' * 30)\n"
   ]
  },
  {
   "cell_type": "markdown",
   "id": "3e0a77b0",
   "metadata": {},
   "source": [
    "## PARTE 3 – Encapsulamento e Abstração\n",
    "\n",
    "**Tarefas:**\n",
    "- Tornar pelo menos 1 atributo da classe principal privado (`__atributo`).\n",
    "- Criar métodos `get` e `set` para o atributo privado.\n",
    "- Implementar um método que contenha lógica interna (ex: cálculo, verificação).\n",
    "\n",
    "**Código:**"
   ]
  },
  {
   "cell_type": "code",
   "execution_count": 66,
   "id": "0bdb445e",
   "metadata": {},
   "outputs": [
    {
     "ename": "IndentationError",
     "evalue": "unexpected indent (709729181.py, line 21)",
     "output_type": "error",
     "traceback": [
      "\u001b[1;36m  File \u001b[1;32m\"C:\\Users\\TEMP\\AppData\\Local\\Temp\\ipykernel_10112\\709729181.py\"\u001b[1;36m, line \u001b[1;32m21\u001b[0m\n\u001b[1;33m    self.data_emprestimo = data_emprestimo\u001b[0m\n\u001b[1;37m    ^\u001b[0m\n\u001b[1;31mIndentationError\u001b[0m\u001b[1;31m:\u001b[0m unexpected indent\n"
     ]
    }
   ],
   "source": [
    "# Desenvolva aqui o código da Parte 3\n",
    "\n",
    "def get_titulo(self):\n",
    "            return self.__titulo\n",
    "\n",
    "\n",
    "def set_titulo(self, novo_titulo):\n",
    "            self.__titulo = novo_titulo\n",
    "\n",
    "\n",
    "def verificar_titulo(self, termo):\n",
    "            if termo.lower() in self.__titulo.lower():\n",
    "              print(f'O título do livro contém o termo \"{termo}\".')\n",
    "            else:\n",
    "                print(f'O título do livro não contém o termo \"{termo}\".')\n",
    "\n",
    "            class LivroEmprestado(LivroDidatico):\n",
    "                def __init__(self, titulo, autor, disciplina, data_emprestimo):\n",
    "\n",
    "                        super().__init__(titulo, autor, disciplina)\n",
    "                                \n",
    "                                \n",
    "                                \n",
    "                                \n",
    "                     self.data_emprestimo = data_emprestimo  \n",
    "\n",
    "def renovar_emprestimo(self):\n",
    "                            if self.emprestado:\n",
    "                                print(f'O empréstimo do livro \"{self.get_titulo()}\" foi renovado.')\n",
    "                                  else:\n",
    "                                     print(f'O livro \"{self.get_titulo()}\" não está emprestado, portanto não pode ser renovado.')\n",
    "\n",
    "                                        def exibir_dados(self):\n",
    "                                             super().exibir_dados()  \n",
    "                                                 print(f'Data do Empréstimo: {self.data_emprestimo.strftime(\"%d/%m/%Y\")}')\n",
    "                                                 print('-' * 30)"
   ]
  },
  {
   "cell_type": "markdown",
   "id": "fb9df3e9",
   "metadata": {},
   "source": [
    "## PARTE 4 – Polimorfismo e Banco de Dados\n",
    "\n",
    "**Tarefas:**\n",
    "- Implementar polimorfismo: sobrescrever um método na subclasse.\n",
    "- Integrar o sistema com banco de dados (MySQL ou SQLite).\n",
    "- Implementar inserção (INSERT), consulta (SELECT) e exclusão (DELETE) de registros no banco de dados.\n",
    "\n",
    "**Código:**"
   ]
  },
  {
   "cell_type": "code",
   "execution_count": 4,
   "id": "56a4c46a",
   "metadata": {},
   "outputs": [],
   "source": [
    "# Desenvolva aqui o código da Parte 4"
   ]
  },
  {
   "cell_type": "markdown",
   "id": "d8bbf974",
   "metadata": {},
   "source": [
    "## PARTE 5 – Projeto Final e Organização\n",
    "\n",
    "**Tarefas:**\n",
    "- Consolidar todas as partes do projeto em um único script organizado.\n",
    "- Comentar o código explicando cada parte.\n",
    "- Testar todas as funcionalidades.\n",
    "\n",
    "**Código:**"
   ]
  },
  {
   "cell_type": "code",
   "execution_count": null,
   "id": "54b3cdd7",
   "metadata": {},
   "outputs": [],
   "source": [
    "# Desenvolva aqui o código da Parte 5"
   ]
  }
 ],
 "metadata": {
  "kernelspec": {
   "display_name": "Python 3 (ipykernel)",
   "language": "python",
   "name": "python3"
  },
  "language_info": {
   "codemirror_mode": {
    "name": "ipython",
    "version": 3
   },
   "file_extension": ".py",
   "mimetype": "text/x-python",
   "name": "python",
   "nbconvert_exporter": "python",
   "pygments_lexer": "ipython3",
   "version": "3.9.13"
  }
 },
 "nbformat": 4,
 "nbformat_minor": 5
}
